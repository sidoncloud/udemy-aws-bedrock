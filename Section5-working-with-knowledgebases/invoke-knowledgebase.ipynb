{
 "cells": [
  {
   "cell_type": "code",
   "execution_count": 4,
   "id": "e61f9248-f158-4e76-823b-f467359392c9",
   "metadata": {},
   "outputs": [
    {
     "name": "stdout",
     "output_type": "stream",
     "text": [
      "/Users/sid/Documents/Udemy-Courses/aws-bedrock-course/Section4-working-with-knowledgebases\n"
     ]
    }
   ],
   "source": [
    "!pwd"
   ]
  },
  {
   "cell_type": "code",
   "execution_count": 1,
   "id": "bc6d6128-8c96-4e59-99f8-64423e3c7dae",
   "metadata": {},
   "outputs": [],
   "source": [
    "import boto3\n",
    "\n",
    "session = boto3.session.Session()\n",
    "bedrock_agent_runtime_client = boto3.client('bedrock-agent-runtime')"
   ]
  },
  {
   "cell_type": "code",
   "execution_count": null,
   "id": "94e79b56-32e3-497a-a2af-7b2f0d684caa",
   "metadata": {},
   "outputs": [
    {
     "name": "stdout",
     "output_type": "stream",
     "text": [
      "The provided data does not explicitly list the different use cases for AWS ECS. However, based on the general information about AWS ECS, here are some potential use cases:\n",
      "\n",
      "1. **Microservices Architecture**: AWS ECS is well-suited for deploying and managing microservices, allowing you to run multiple containers on a single instance or across multiple instances.\n",
      "\n",
      "2. **Batch Processing**: AWS ECS can be used for running batch jobs, especially when you need to process large volumes of data in parallel.\n",
      "\n",
      "3. **Continuous Integration/Continuous Deployment (CI/CD)**: AWS ECS can be integrated with CI/CD pipelines to automate the deployment of containerized applications.\n",
      "\n",
      "4. **Hybrid Cloud Deployments**: AWS ECS can be used to deploy applications in a hybrid cloud environment, where some workloads run on-premises and others run in the AWS cloud.\n",
      "\n",
      "5. **Legacy Applications**: AWS ECS can help modernize legacy applications by containerizing them and running them in a managed environment.\n",
      "\n",
      "6. **Data Processing Pipelines**: AWS ECS can be used to build and manage data processing pipelines, allowing you to process and transform data in real-time or in batch.\n",
      "\n",
      "7. **Gaming and Real-Time Applications**: AWS ECS can be used to deploy gaming and real-time applications that require low latency and high availability.\n",
      "\n",
      "8. **Machine Learning and AI**: AWS ECS can be used to deploy machine learning and AI models, allowing you to scale your workloads as needed.\n",
      "\n",
      "These are just a few examples of the potential use cases for AWS ECS. The actual use cases will depend on the specific needs and requirements of your organization.\n"
     ]
    }
   ],
   "source": [
    "query = \"\"\"what are the different use cases for AWS ECS?\"\"\"\n",
    "\n",
    "max_results = 3\n",
    "kb_id = \"\"\n",
    "# model_id = \"anthropic.claude-3-haiku-20240307-v1:0\"\n",
    "model_id = \"amazon.nova-lite-v1:0\"\n",
    "model_arn = f'arn:aws:bedrock:us-east-1::foundation-model/{model_id}'\n",
    "\n",
    "default_prompt = \"\"\"\n",
    "You are a helpful assitant who helps users addressing questions related to AWS Cloud. Only refer to the provided data \n",
    "while responding to the questions. \n",
    "$search_results$\n",
    "\"\"\"\n",
    "\n",
    "response = bedrock_agent_runtime_client.retrieve_and_generate(\n",
    "            input={\n",
    "                'text': query\n",
    "            },\n",
    "        retrieveAndGenerateConfiguration={\n",
    "        'type': 'KNOWLEDGE_BASE',\n",
    "        'knowledgeBaseConfiguration': {\n",
    "            'knowledgeBaseId': kb_id,\n",
    "            'modelArn': model_arn, \n",
    "            'retrievalConfiguration': {\n",
    "                'vectorSearchConfiguration': {\n",
    "                    'numberOfResults': max_results\n",
    "                    }\n",
    "                },\n",
    "                'generationConfiguration': {\n",
    "                        'promptTemplate': {\n",
    "                            'textPromptTemplate': default_prompt\n",
    "                        }\n",
    "                    }\n",
    "            }\n",
    "        }\n",
    "    )\n",
    "\n",
    "generated_text = response['output']['text']\n",
    "\n",
    "print(generated_text)"
   ]
  },
  {
   "cell_type": "code",
   "execution_count": null,
   "id": "2271c8d9-f361-4a55-8673-1173c256bf7c",
   "metadata": {},
   "outputs": [],
   "source": []
  }
 ],
 "metadata": {
  "kernelspec": {
   "display_name": "Python 3 (ipykernel)",
   "language": "python",
   "name": "python3"
  },
  "language_info": {
   "codemirror_mode": {
    "name": "ipython",
    "version": 3
   },
   "file_extension": ".py",
   "mimetype": "text/x-python",
   "name": "python",
   "nbconvert_exporter": "python",
   "pygments_lexer": "ipython3",
   "version": "3.11.6"
  }
 },
 "nbformat": 4,
 "nbformat_minor": 5
}
