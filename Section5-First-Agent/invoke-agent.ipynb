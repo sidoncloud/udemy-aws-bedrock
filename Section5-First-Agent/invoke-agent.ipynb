{
 "cells": [
  {
   "cell_type": "code",
   "execution_count": 1,
   "id": "ae43fded-5968-48bd-9a28-7e8120a787d1",
   "metadata": {},
   "outputs": [],
   "source": [
    "import boto3\n",
    "import uuid\n",
    "\n",
    "session = boto3.session.Session()\n",
    "bedrock_agent_runtime_client = boto3.client('bedrock-agent-runtime')"
   ]
  },
  {
   "cell_type": "code",
   "execution_count": null,
   "id": "4d9d2d95-ee2f-4ade-ad88-067ff4cd96fd",
   "metadata": {},
   "outputs": [
    {
     "name": "stdout",
     "output_type": "stream",
     "text": [
      "Based on the product inventory information, here are the women's products priced under AED 35:\n",
      "\n",
      "1. Anna-Kaci S/M Fit Pink Boucle Texture Open Front Buttonless Jewel Collar Jacket - AED 25.90\n",
      "2. Women's Fine Interlock Sleeveless Hoody - AED 25.95\n",
      "3. Allegra K Ladies Sleeveless Turn Up Hem Single Breasted Drawstring Romper Navy Blue XS - AED 10.89\n",
      "4. Allegra K Ladies Layer Flouncing Upper Multi Wearing Printed Romper Pink Navy Blue XS - AED 10.41\n",
      "5. Love Tease Print Shortall - AED 10.94\n",
      "6. Anna-Kaci S/M Fit Gold and Silver All Over Sequin L/S Statement Cropped Jacket - AED 26.90\n",
      "7. Allegra K Ladies Long Sleeves Two Hook Eye Fashional Blazer Black XS - AED 25.08\n",
      "8. Allegra K Ladies Long Sleeve Waistband Above Two Mock Pockets Ruched Short Coat Pink XS - AED 15.71\n",
      "9. Allegra K Ladies Metal Zipper Black Flower Lace Hooded Sexy Short Jacket XS - AED 9.61\n",
      "10. Allegra K Women Peaked Lapel Padded Shoulder Pure Ruffles Decor Cuff Blazer Green S - AED 23.76\n",
      "11. Levi's Juniors 524 Boot Back Pocket Embellishment Jean - AED 34.99\n",
      "12. Allegra K Lady Flounced Upper Elastic Waist Dots Self Tie Shoulder String Romper Mustard S - AED 10.98\n",
      "13. Allegra K Ladies Stand Collar Long Sleeve One Button Blazer Black XS - AED 23.67\n",
      "14. Next Level Soft Thermal Hoodie - AED 19.82\n",
      "15. Allegra K Women Zipped Slant Pockets Detail Straight Summer Suspender Dark Khaki S - AED 15.67\n",
      "16. Allegra K Women Buttonless Opening Front Step Collar Padded Shoulder Chiffon Beige Blazer S - AED 11.14\n",
      "17. Allegra K Ladies Peaked Lapel Long Sleeve Autumn Casual Blazer Coat Black Brown XS - AED 23.19\n",
      "18. Allegra K Ladies Front Opening Long Sleeve Pure Color Textured Outwear Coat Khaki XS - AED 10.25\n",
      "19. Allegra K Ladies Fluttery Sleeves Scoop Neck Floral Print Side Slits Short Green Romper XS - AED 8.74\n",
      "20. Allegra K Women Ruffled U Neck Sleeveless Stretchy Summer Jumpsuit XS Black - AED 15.67\n",
      "21. Allegra K Waist Strap Black Long Sleeves Crop Blazer Jacket for Woman XS - AED 13.25\n",
      "22. Next Level Apparel Ladies Juniors' Soft Thermal Hoodie T-Shirt. 8021 - AED 14.00\n",
      "23. Allegra K Lady XS Roller Cuff Chiffon Short Jumpsuit Salmon Pink - AED 12.02\n",
      "24. Allegra K Ladies Deep V Neck Zip Up Stretchy Form Fitting Pleated Coat Black XS - AED 10.96\n",
      "25. Allegra K Woman Semi Sheer Strapless Chiffon Romper Dark Blue XS - AED 11.24\n",
      "26. Allegra K Women Single Breasted One Button Padded Shoulder Autumn Blazer Pink XS - AED 24.03\n",
      "27. Allegra K Women One Button Closure Formfitting Long Sleeve Padded Shoulder Blazer White XS - AED 11.68\n",
      "28. Allegra K Ladies Open Front Stretchy Pure Color Simple Cropped Blazer Black XS - AED 10.15\n",
      "29. Allegra K Ladies Leopard Prints Adjustable Shoulder Strap Romper Biege Brown XS - AED 13.25\n",
      "30. Allegra K Lady Gray Magenta Raglan Sleeve Drawstring Hooded Sweatshirt S - AED 12.59\n",
      "31. Allegra K Woman V Neck Sleeveless Side Slits Button Front Floral Print Orange Romper XS - AED 9.55\n",
      "32. Volcom Juniors Kelli Romper - AED 13.60\n",
      "33. Allegra K Lady Zipped Back Drawstring Front Side Pockets Casual Jumpsuit Red XS - AED 11.90\n",
      "34. Allegra K Long Sleeve Zip Up Front Womenwear Waist Length Hoodie White XS - AED 12.10\n",
      "35. Allegra K S Solid Army Green Ruffled Self Tie Jumpsuit for Ladies - AED 14.24\n",
      "36. Allegra K Ladies Long Sleeves Autumn Tailored Pretty Blazer Coffee XS - AED 14.45\n",
      "37. Plus size Button Closure Cropped Bolero Jacket Black - AED 19.99\n",
      "38. Allegra K Lady Crochet Flower Waist Sleeveless Romper Apricot XS - AED 13.38\n",
      "39. Allegra K Woman Floral Print Upper Romper Salmon Blue Color XS w Waist Strap - AED 10.98\n",
      "40. Allegra K Women Front Opening Buttonless Cute Bubble Sleeve Casual Blazer Coat Black XS - AED 15.37\n",
      "41. Allegra K Lady Faux Pearl Decor Shoulder Cropped Jumpsuit Pink S - AED 10.82\n",
      "42. Allegra K Lady White Dots Elastic Waist Black Cropped Jumpsuit XS - AED 17.63\n",
      "43. Allegra K Woman Strapless Black White Dots Decor Orange Chiffon Jumpsuit XS - AED 13.54\n",
      "44. Allegra K White Lace Decor Black Strapless Jumpsuit XS for Ladies - AED 15.84\n",
      "\n",
      "These products include various items such as jackets, rompers, jumpsuits, hoodies, and blazers. Many of the affordable options are from the brand Allegra K, which seems to offer a range of budget-friendly women's clothing.\n"
     ]
    }
   ],
   "source": [
    "session_id:str = str(uuid.uuid1())\n",
    "enable_trace:bool = False\n",
    "end_session:bool = False\n",
    "agent_id = \"\"\n",
    "agent_alias_id = \"\"\n",
    "\n",
    "user_query = \"\"\"\n",
    "            Which women’s products are priced under AED 35?\n",
    "            \"\"\"\n",
    "\n",
    "# invoke the agent API\n",
    "agentResponse = bedrock_agent_runtime_client.invoke_agent(\n",
    "    inputText=user_query,\n",
    "    agentId=agent_id,\n",
    "    agentAliasId=agent_alias_id, \n",
    "    sessionId=session_id,\n",
    "    enableTrace=enable_trace, \n",
    "    endSession= end_session\n",
    ")\n",
    "event_stream = agentResponse['completion']\n",
    "\n",
    "try:\n",
    "    for event in event_stream:        \n",
    "        if 'chunk' in event:\n",
    "            data = event['chunk']['bytes']\n",
    "            print(data.decode('utf8'))\n",
    "            agent_answer = data.decode('utf8')\n",
    "            end_event_received = True\n",
    "        elif 'trace' in event:\n",
    "            print(json.dumps(event['trace']))\n",
    "        else:\n",
    "            raise Exception(\"unexpected event.\", event)\n",
    "except Exception as e:\n",
    "    raise Exception(\"unexpected event.\", e)"
   ]
  },
  {
   "cell_type": "code",
   "execution_count": null,
   "id": "f234e98e-c767-4c25-ad33-708b5bed53ac",
   "metadata": {},
   "outputs": [],
   "source": []
  }
 ],
 "metadata": {
  "kernelspec": {
   "display_name": "Python 3 (ipykernel)",
   "language": "python",
   "name": "python3"
  },
  "language_info": {
   "codemirror_mode": {
    "name": "ipython",
    "version": 3
   },
   "file_extension": ".py",
   "mimetype": "text/x-python",
   "name": "python",
   "nbconvert_exporter": "python",
   "pygments_lexer": "ipython3",
   "version": "3.11.6"
  }
 },
 "nbformat": 4,
 "nbformat_minor": 5
}
