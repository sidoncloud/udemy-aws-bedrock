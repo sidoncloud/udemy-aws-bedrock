{
 "cells": [
  {
   "cell_type": "code",
   "execution_count": null,
   "id": "1f128b78-c174-435d-a93e-620b944eec1d",
   "metadata": {},
   "outputs": [],
   "source": [
    "# !pip install boto3"
   ]
  },
  {
   "cell_type": "markdown",
   "id": "e86114b5-db59-4cad-bb17-fcb1c59de46b",
   "metadata": {},
   "source": [
    "<h2>Single Turn invocations</h2>"
   ]
  },
  {
   "cell_type": "code",
   "execution_count": null,
   "id": "8added38-502b-4edd-8053-0c0cd6a59100",
   "metadata": {},
   "outputs": [
    {
     "name": "stdout",
     "output_type": "stream",
     "text": [
      "Flow invocation was successful! The output of the flow is as follows:\n",
      "\n",
      "The Blue Garden Café, located 850m from the hotel, would be a good option for brunch. They serve fresh juices, artisanal pastries, and offer vegan-friendly options. It's described as perfect for breakfast and casual meetups. If you're willing to go a bit further, you could visit Palm Bay Waterfront Park (3.4km away) after your meal for scenic views and walking trails. However, the search results don't specifically mention any restaurants with views, so I cannot make a specific recommendation for a brunch spot with a view.\n"
     ]
    }
   ],
   "source": [
    "import boto3\n",
    "\n",
    "client_runtime = boto3.client('bedrock-agent-runtime')\n",
    "\n",
    "user_input = \"\"\"What's a good place nearby for brunch with a nice view?\"\"\"\n",
    "\n",
    "response = client_runtime.invoke_flow(\n",
    "    flowIdentifier=\"\",\n",
    "    flowAliasIdentifier=\"\",\n",
    "    inputs=[\n",
    "        {\n",
    "            \"content\": {\"document\":str(user_input)},\n",
    "            \"nodeName\": \"FlowInputNode\",\n",
    "            \"nodeOutputName\": \"document\"\n",
    "        }\n",
    "    ]\n",
    ")\n",
    "result = {}\n",
    "\n",
    "for event in response.get(\"responseStream\"):\n",
    "    result.update(event)\n",
    "\n",
    "if result['flowCompletionEvent']['completionReason'] == 'SUCCESS':\n",
    "    print(\"Flow invocation was successful! The output of the flow is as follows:\\n\")\n",
    "    print(result['flowOutputEvent']['content']['document'])\n",
    "\n",
    "else:\n",
    "    print(\"The flow invocation completed because of the following reason:\", result['flowCompletionEvent']['completionReason'])"
   ]
  },
  {
   "cell_type": "markdown",
   "id": "26b4d424-b8ae-4bea-8b5e-2e7213e67ab0",
   "metadata": {},
   "source": [
    "<h2>Multi-turn conversations</h2>"
   ]
  },
  {
   "cell_type": "code",
   "execution_count": 2,
   "id": "624bd9f8-8445-4b3b-8c7a-d3b88b19e59a",
   "metadata": {
    "scrolled": true
   },
   "outputs": [
    {
     "name": "stdout",
     "output_type": "stream",
     "text": [
      "\n",
      "--- Start Conversation ---\n"
     ]
    },
    {
     "name": "stdout",
     "output_type": "stream",
     "text": [
      "You:  i want to know if i have any existing bookings?\n"
     ]
    },
    {
     "name": "stderr",
     "output_type": "stream",
     "text": [
      "INFO:__main__:Received flowMultiTurnInputRequestEvent - input required.\n",
      "INFO:__main__:Flow Completion Event received with reason: INPUT_REQUIRED\n"
     ]
    },
    {
     "name": "stdout",
     "output_type": "stream",
     "text": [
      "\n",
      "Agent: 'To check your existing bookings, I'll need either your email address or phone number. Could you please provide either or both?'\n"
     ]
    },
    {
     "name": "stdout",
     "output_type": "stream",
     "text": [
      "You:  carol.lee@example.com\n"
     ]
    },
    {
     "name": "stderr",
     "output_type": "stream",
     "text": [
      "INFO:__main__:Received flowOutputEvent - final output available.\n",
      "INFO:__main__:Flow Completion Event received with reason: SUCCESS\n"
     ]
    },
    {
     "name": "stdout",
     "output_type": "stream",
     "text": [
      "\n",
      " Flow completed successfully:\n",
      "\n",
      "Yes, I found one confirmed booking under your email:\n",
      "- Check-in: April 28, 2025\n",
      "- Check-out: May 3, 2025\n",
      "- Number of guests: 3\n",
      "- Booking ID: bkg-1003\n"
     ]
    }
   ],
   "source": [
    "import boto3\n",
    "import logging\n",
    "import json\n",
    "\n",
    "logging.basicConfig(level=logging.INFO)\n",
    "logger = logging.getLogger(__name__)\n",
    "\n",
    "FLOW_ID = \"JLGXMMQLD7\"\n",
    "FLOW_ALIAS_ID = \"0VRWTC4AIX\"\n",
    "\n",
    "def invoke_flow(client, flow_id, flow_alias_id, input_data, execution_id=None):\n",
    "    \"\"\"\n",
    "    Invoke an Amazon Bedrock flow and gather:\n",
    "      - execution_id (for session continuity)\n",
    "      - flow_status (SUCCESS, INPUT_REQUIRED, etc.)\n",
    "      - any multi-turn request event\n",
    "      - any final output document\n",
    "    \"\"\"\n",
    "    params = {\n",
    "        \"flowIdentifier\": flow_id,\n",
    "        \"flowAliasIdentifier\": flow_alias_id,\n",
    "        \"inputs\": [input_data],\n",
    "    }\n",
    "    if execution_id:\n",
    "        params[\"executionId\"] = execution_id\n",
    "\n",
    "    try:\n",
    "        resp = client.invoke_flow(**params)\n",
    "        \n",
    "        execution_id = resp.get(\"executionId\", execution_id)\n",
    "        if not execution_id:\n",
    "            logger.error(\"InvokeFlow did not return an executionId. Check flow configuration or permissions.\")\n",
    "            return None, None, None, None \n",
    "\n",
    "        flow_status = None\n",
    "        multi_turn_request = None\n",
    "        final_output = None\n",
    "\n",
    "        for evt in resp.get(\"responseStream\", []):\n",
    "            logger.debug(f\"Received event: {json.dumps(evt, indent=2)}\")\n",
    "\n",
    "            if \"flowCompletionEvent\" in evt:\n",
    "                flow_status = evt[\"flowCompletionEvent\"][\"completionReason\"]\n",
    "                logger.info(f\"Flow Completion Event received with reason: {flow_status}\")\n",
    "\n",
    "            if \"flowMultiTurnInputRequestEvent\" in evt:\n",
    "                multi_turn_request = evt[\"flowMultiTurnInputRequestEvent\"]\n",
    "                logger.info(\"Received flowMultiTurnInputRequestEvent - input required.\")\n",
    "\n",
    "            if \"flowOutputEvent\" in evt:\n",
    "                content = evt[\"flowOutputEvent\"].get(\"content\", {})\n",
    "                document_content = content.get(\"document\")\n",
    "                if isinstance(document_content, dict) and 'content' in document_content:\n",
    "                    final_output = document_content.get('content')\n",
    "                elif isinstance(document_content, str):\n",
    "                    final_output = document_content \n",
    "                else:\n",
    "                    final_output = json.dumps(document_content)\n",
    "                logger.info(\"Received flowOutputEvent - final output available.\")\n",
    "\n",
    "        return flow_status, multi_turn_request, final_output, execution_id\n",
    "\n",
    "    except botocore.exceptions.ClientError as e:\n",
    "        logger.error(f\"AWS Client Error invoking flow: {e}\")\n",
    "        logger.error(f\"Error Code: {e.response.get('Error', {}).get('Code')}, Message: {e.response.get('Error', {}).get('Message')}\")\n",
    "        return None, None, None, None \n",
    "    except Exception as e:\n",
    "        logger.error(f\"Unexpected error in invoke_flow: {e}\")\n",
    "        import traceback\n",
    "        logger.error(traceback.format_exc())\n",
    "        return None, None, None, None \n",
    "\n",
    "def create_input_data(text, node_name=\"FlowInputNode\", is_initial=True):\n",
    "    \"\"\"\n",
    "    Build the inputs entry for invoke_flow.\n",
    "    Handles initial FlowInputNode (expects string document) and subsequent node inputs.\n",
    "    \"\"\"\n",
    "    data = {\n",
    "        \"nodeName\": node_name,\n",
    "    }\n",
    "    if is_initial:\n",
    "\n",
    "        data[\"content\"] = {\"document\": str(text)}\n",
    "        data[\"nodeOutputName\"] = \"document\"\n",
    "    else:\n",
    "        if node_name == \"hotel_booking_agent\": # Target node is the hotel booking agent\n",
    "            data[\"content\"] = {\"document\": str(text)}\n",
    "            data[\"nodeInputName\"] = \"agentInputText\"\n",
    "        else:\n",
    "            data[\"content\"] = {\"document\": {\"mimeType\": \"text/plain\", \"content\": str(text)}}\n",
    "            data[\"nodeInputName\"] = \"agentInputText\" \n",
    "    return data\n",
    "\n",
    "def main():\n",
    "    client = boto3.client(\"bedrock-agent-runtime\")\n",
    "    current_execution_id = None \n",
    "    node_for_next_turn = \"FlowInputNode\" # Default for the very first turn\n",
    "\n",
    "    print(\"\\n--- Start Conversation ---\")\n",
    "    user_input = input(\"You: \")\n",
    "    \n",
    "    while True:\n",
    "        is_initial_turn = (current_execution_id is None)\n",
    "\n",
    "        if is_initial_turn:\n",
    "            input_data = create_input_data(user_input, node_name=\"FlowInputNode\", is_initial=True)\n",
    "        else:\n",
    "            input_data = create_input_data(user_input, node_name=node_for_next_turn, is_initial=False)\n",
    "\n",
    "        status, multi_request, final_output, current_execution_id = invoke_flow(\n",
    "            client, FLOW_ID, FLOW_ALIAS_ID, input_data, current_execution_id\n",
    "        )\n",
    "\n",
    "        if current_execution_id is None:\n",
    "            print(\"\\n Failed to start/continue flow. Exiting.\")\n",
    "            break\n",
    "\n",
    "        if status == \"SUCCESS\":\n",
    "            print(\"\\n Flow completed successfully:\\n\")\n",
    "            if final_output:\n",
    "                print(final_output)\n",
    "            else:\n",
    "                print(\"Flow completed successfully but no final output document was found.\")\n",
    "            break \n",
    "\n",
    "        elif status == \"INPUT_REQUIRED\" and multi_request:\n",
    "            prompt = multi_request[\"content\"][\"document\"]\n",
    "            node_for_next_turn = multi_request[\"nodeName\"]\n",
    "            \n",
    "            print(f\"\\nAgent: '{prompt}'\")\n",
    "            user_input = input(\"You: \") \n",
    "            continue \n",
    "\n",
    "        else:\n",
    "            logger.error(f\"Flow ended with unexpected reason: {status}. Output: {final_output}\")\n",
    "            break\n",
    "\n",
    "if __name__ == \"__main__\":\n",
    "    main()"
   ]
  },
  {
   "cell_type": "code",
   "execution_count": null,
   "id": "4b9326e3-d86f-4c44-b126-4f1393d5f547",
   "metadata": {},
   "outputs": [],
   "source": []
  }
 ],
 "metadata": {
  "kernelspec": {
   "display_name": "Python 3 (ipykernel)",
   "language": "python",
   "name": "python3"
  },
  "language_info": {
   "codemirror_mode": {
    "name": "ipython",
    "version": 3
   },
   "file_extension": ".py",
   "mimetype": "text/x-python",
   "name": "python",
   "nbconvert_exporter": "python",
   "pygments_lexer": "ipython3",
   "version": "3.11.6"
  }
 },
 "nbformat": 4,
 "nbformat_minor": 5
}
