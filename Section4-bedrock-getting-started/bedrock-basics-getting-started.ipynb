{
 "cells": [
  {
   "cell_type": "code",
   "execution_count": null,
   "id": "65fdf670-bb10-4258-a4f5-5a3338d1f12f",
   "metadata": {},
   "outputs": [],
   "source": [
    "# !pip3 install boto3 "
   ]
  },
  {
   "cell_type": "code",
   "execution_count": 1,
   "id": "c0d4ce5b-121d-4931-855a-ca0ae62ecba7",
   "metadata": {},
   "outputs": [],
   "source": [
    "import json\n",
    "import boto3\n",
    "client_bedrock=boto3.client('bedrock-runtime')"
   ]
  },
  {
   "cell_type": "code",
   "execution_count": 2,
   "id": "1811c8d4-e0cc-4673-bdc3-a8f68714beb0",
   "metadata": {},
   "outputs": [
    {
     "name": "stdout",
     "output_type": "stream",
     "text": [
      " AWS (Amazon Web Services) has several pricing models for their services, and the most relevant for the \"Bedrock\" solutions refer to the following:\n",
      "\n",
      "1. On-demand (pay-as-you-go):\n",
      "   - With on-demand, you pay for exactly what you use, including the resources your applications use for compute, storage, databases, analytics, networking, and more. \n",
      "   - Pricing is based on a combination of factors, including the type and amount of usage,\n"
     ]
    }
   ],
   "source": [
    "input_prompt = \"whats aws bedrock pricing model?\"\n",
    "\n",
    "model_id = \"cohere.command-light-text-v14\"\n",
    "\n",
    "client_bedrockrequest=client_bedrock.invoke_model(\n",
    "       contentType='application/json',\n",
    "       modelId=model_id,\n",
    "       body=json.dumps( {\n",
    "        \"prompt\": input_prompt,\n",
    "        \"temperature\": 0.9,\n",
    "        \"p\": 0.75,\n",
    "        \"k\": 0,\n",
    "        \"max_tokens\": 100}))\n",
    "\n",
    "client_bedrock_byte = client_bedrockrequest['body'].read()\n",
    "client_bedrock_string=json.loads(client_bedrock_byte)\n",
    "\n",
    "client_final_response=client_bedrock_string['generations'][0]['text']\n",
    "print(client_final_response)"
   ]
  },
  {
   "cell_type": "code",
   "execution_count": 4,
   "id": "b150dc94-62dd-4cfd-bc7b-55022623757d",
   "metadata": {},
   "outputs": [
    {
     "name": "stdout",
     "output_type": "stream",
     "text": [
      " AWS Bedrock is a service provided by Amazon Web Services that allows customers to securely store and manage documents in the cloud. As of my last training data in February 2024, the pricing for AWS Bedrock is based on the amount of data stored, the number of transactions performed, and the usage of additional features such as document conversion and data migration.\n",
      "\n",
      "The pricing is subject to change over time and it's recommended to check the official AWS website for the current pricing information. Here are the general pricing details as of my last training data:\n",
      "\n",
      "1. **Storage Pricing**: You are charged based on the total amount of data stored in your AWS Bedrock environment. There are different pricing tiers based on the amount of data stored.\n",
      "\n",
      "\n",
      "2. **Transaction Pricing**: There is a fee for each transaction performed on your AWS Bedrock environment, such as adding, deleting, or updating documents. The pricing varies based on the volume of transactions.\n",
      "\n",
      "\n",
      "3. **Additional Features**: If you use additional features like document conversion or data migration, there may be additional charges for these services.\n",
      "\n",
      "\n",
      "It's important to note that AWS offers a free tier for AWS Bedrock, which allows you to try out the service with a limited amount of data and transactions. The free tier is a great way to get started and evaluate the service before committing to a paid plan.\n",
      "\n",
      "For the most up-to-date pricing information and details, I recommend visiting the official AWS Bedrock pricing page or contacting AWS support.\n"
     ]
    }
   ],
   "source": [
    "response = client_bedrock.invoke_model(\n",
    "        modelId='ai21.jamba-instruct-v1:0', \n",
    "        body=json.dumps({\n",
    "            'messages': [ \n",
    "                { \n",
    "                    'role': 'user', \n",
    "                    'content': input_prompt \n",
    "                } \n",
    "             ], \n",
    "         }) \n",
    "       ) \n",
    "\n",
    "response_body = response['body'].read().decode('utf-8')\n",
    "\n",
    "parsed_response = json.loads(response_body)\n",
    "\n",
    "print(parsed_response['choices'][0]['message']['content'])"
   ]
  },
  {
   "cell_type": "code",
   "execution_count": null,
   "id": "2583e17c-b8c1-491d-ac15-06117968fe34",
   "metadata": {},
   "outputs": [],
   "source": []
  },
  {
   "cell_type": "code",
   "execution_count": null,
   "id": "282153f0-89a5-445c-94bd-b43955c2d156",
   "metadata": {},
   "outputs": [],
   "source": []
  },
  {
   "cell_type": "code",
   "execution_count": null,
   "id": "158bb02e-13fa-4a2d-a65b-3eead3bd6226",
   "metadata": {},
   "outputs": [],
   "source": []
  },
  {
   "cell_type": "code",
   "execution_count": null,
   "id": "4c68b919-c427-49e1-9c6b-180ab8eea6b3",
   "metadata": {},
   "outputs": [],
   "source": []
  },
  {
   "cell_type": "code",
   "execution_count": null,
   "id": "cb3563dd-24ad-4e15-90e3-f1a8afe04f5b",
   "metadata": {},
   "outputs": [],
   "source": []
  },
  {
   "cell_type": "code",
   "execution_count": null,
   "id": "e3e8c9d8-3ada-4cbb-afb8-908f179f971c",
   "metadata": {},
   "outputs": [],
   "source": []
  }
 ],
 "metadata": {
  "kernelspec": {
   "display_name": "Python 3 (ipykernel)",
   "language": "python",
   "name": "python3"
  },
  "language_info": {
   "codemirror_mode": {
    "name": "ipython",
    "version": 3
   },
   "file_extension": ".py",
   "mimetype": "text/x-python",
   "name": "python",
   "nbconvert_exporter": "python",
   "pygments_lexer": "ipython3",
   "version": "3.11.6"
  }
 },
 "nbformat": 4,
 "nbformat_minor": 5
}
