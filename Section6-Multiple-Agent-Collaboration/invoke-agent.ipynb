{
 "cells": [
  {
   "cell_type": "code",
   "execution_count": 1,
   "id": "ae43fded-5968-48bd-9a28-7e8120a787d1",
   "metadata": {},
   "outputs": [],
   "source": [
    "import boto3\n",
    "import uuid\n",
    "\n",
    "session = boto3.session.Session()\n",
    "bedrock_agent_runtime_client = boto3.client('bedrock-agent-runtime')"
   ]
  },
  {
   "cell_type": "code",
   "execution_count": null,
   "id": "4d9d2d95-ee2f-4ade-ad88-067ff4cd96fd",
   "metadata": {},
   "outputs": [
    {
     "name": "stdout",
     "output_type": "stream",
     "text": [
      "Great! I'd be happy to help you apply for a new mortgage. To get started, we'll need some information from you. Please provide the following details:\n",
      "\n",
      "1. Your full name\n",
      "2. Your employment type (e.g., salaried, self-employed, etc.)\n",
      "3. Do you have any existing loans? (Yes/No)\n",
      "4. Your citizenship status\n",
      "5. Your monthly income in AED\n",
      "6. The estimated value of the property you're interested in\n",
      "7. How much down payment can you make?\n",
      "8. What is your preferred mortgage term in years?\n",
      "\n",
      "Please provide all this information in a single response.\n"
     ]
    }
   ],
   "source": [
    "session_id:str = str(uuid.uuid1())\n",
    "enable_trace:bool = False\n",
    "end_session:bool = False\n",
    "agent_id = \"\"\n",
    "agent_alias_id = \"\"\n",
    "\n",
    "user_query = \"\"\"\n",
    "            can you help me to apply for a new mortgage?\n",
    "            \"\"\"\n",
    "\n",
    "# invoke the agent API\n",
    "agentResponse = bedrock_agent_runtime_client.invoke_agent(\n",
    "    inputText=user_query,\n",
    "    agentId=agent_id,\n",
    "    agentAliasId=agent_alias_id, \n",
    "    sessionId=session_id,\n",
    "    enableTrace=enable_trace, \n",
    "    endSession= end_session\n",
    ")\n",
    "event_stream = agentResponse['completion']\n",
    "\n",
    "try:\n",
    "    for event in event_stream:        \n",
    "        if 'chunk' in event:\n",
    "            data = event['chunk']['bytes']\n",
    "            print(data.decode('utf8'))\n",
    "            agent_answer = data.decode('utf8')\n",
    "            end_event_received = True\n",
    "        elif 'trace' in event:\n",
    "            print(json.dumps(event['trace']))\n",
    "        else:\n",
    "            raise Exception(\"unexpected event.\", event)\n",
    "except Exception as e:\n",
    "    raise Exception(\"unexpected event.\", e)"
   ]
  },
  {
   "cell_type": "code",
   "execution_count": null,
   "id": "f234e98e-c767-4c25-ad33-708b5bed53ac",
   "metadata": {},
   "outputs": [],
   "source": []
  }
 ],
 "metadata": {
  "kernelspec": {
   "display_name": "Python 3 (ipykernel)",
   "language": "python",
   "name": "python3"
  },
  "language_info": {
   "codemirror_mode": {
    "name": "ipython",
    "version": 3
   },
   "file_extension": ".py",
   "mimetype": "text/x-python",
   "name": "python",
   "nbconvert_exporter": "python",
   "pygments_lexer": "ipython3",
   "version": "3.11.6"
  }
 },
 "nbformat": 4,
 "nbformat_minor": 5
}
